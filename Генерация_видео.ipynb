{
  "nbformat": 4,
  "nbformat_minor": 0,
  "metadata": {
    "colab": {
      "provenance": [],
      "authorship_tag": "ABX9TyPyvKwxnz3/JCK1aCZI+h/D",
      "include_colab_link": true
    },
    "kernelspec": {
      "name": "python3",
      "display_name": "Python 3"
    },
    "language_info": {
      "name": "python"
    }
  },
  "cells": [
    {
      "cell_type": "markdown",
      "metadata": {
        "id": "view-in-github",
        "colab_type": "text"
      },
      "source": [
        "<a href=\"https://colab.research.google.com/github/Evgeny-Gladyshev/Video_AI_Generation/blob/main/%D0%93%D0%B5%D0%BD%D0%B5%D1%80%D0%B0%D1%86%D0%B8%D1%8F_%D0%B2%D0%B8%D0%B4%D0%B5%D0%BE.ipynb\" target=\"_parent\"><img src=\"https://colab.research.google.com/assets/colab-badge.svg\" alt=\"Open In Colab\"/></a>"
      ]
    },
    {
      "cell_type": "code",
      "source": [
        "!pip install requests\n",
        "!pip install moviepy"
      ],
      "metadata": {
        "colab": {
          "base_uri": "https://localhost:8080/"
        },
        "id": "uEJQVecfXZCz",
        "outputId": "cfb5984d-6629-46b4-e18d-5254de71ef6d"
      },
      "execution_count": null,
      "outputs": [
        {
          "output_type": "stream",
          "name": "stdout",
          "text": [
            "Requirement already satisfied: requests in /usr/local/lib/python3.11/dist-packages (2.32.3)\n",
            "Requirement already satisfied: charset-normalizer<4,>=2 in /usr/local/lib/python3.11/dist-packages (from requests) (3.4.1)\n",
            "Requirement already satisfied: idna<4,>=2.5 in /usr/local/lib/python3.11/dist-packages (from requests) (3.10)\n",
            "Requirement already satisfied: urllib3<3,>=1.21.1 in /usr/local/lib/python3.11/dist-packages (from requests) (2.3.0)\n",
            "Requirement already satisfied: certifi>=2017.4.17 in /usr/local/lib/python3.11/dist-packages (from requests) (2024.12.14)\n",
            "Requirement already satisfied: moviepy in /usr/local/lib/python3.11/dist-packages (1.0.3)\n",
            "Requirement already satisfied: decorator<5.0,>=4.0.2 in /usr/local/lib/python3.11/dist-packages (from moviepy) (4.4.2)\n",
            "Requirement already satisfied: imageio<3.0,>=2.5 in /usr/local/lib/python3.11/dist-packages (from moviepy) (2.36.1)\n",
            "Requirement already satisfied: imageio_ffmpeg>=0.2.0 in /usr/local/lib/python3.11/dist-packages (from moviepy) (0.6.0)\n",
            "Requirement already satisfied: tqdm<5.0,>=4.11.2 in /usr/local/lib/python3.11/dist-packages (from moviepy) (4.67.1)\n",
            "Requirement already satisfied: numpy>=1.17.3 in /usr/local/lib/python3.11/dist-packages (from moviepy) (1.26.4)\n",
            "Requirement already satisfied: requests<3.0,>=2.8.1 in /usr/local/lib/python3.11/dist-packages (from moviepy) (2.32.3)\n",
            "Requirement already satisfied: proglog<=1.0.0 in /usr/local/lib/python3.11/dist-packages (from moviepy) (0.1.10)\n",
            "Requirement already satisfied: pillow>=8.3.2 in /usr/local/lib/python3.11/dist-packages (from imageio<3.0,>=2.5->moviepy) (11.1.0)\n",
            "Requirement already satisfied: charset-normalizer<4,>=2 in /usr/local/lib/python3.11/dist-packages (from requests<3.0,>=2.8.1->moviepy) (3.4.1)\n",
            "Requirement already satisfied: idna<4,>=2.5 in /usr/local/lib/python3.11/dist-packages (from requests<3.0,>=2.8.1->moviepy) (3.10)\n",
            "Requirement already satisfied: urllib3<3,>=1.21.1 in /usr/local/lib/python3.11/dist-packages (from requests<3.0,>=2.8.1->moviepy) (2.3.0)\n",
            "Requirement already satisfied: certifi>=2017.4.17 in /usr/local/lib/python3.11/dist-packages (from requests<3.0,>=2.8.1->moviepy) (2024.12.14)\n"
          ]
        }
      ]
    },
    {
      "cell_type": "code",
      "execution_count": null,
      "metadata": {
        "colab": {
          "base_uri": "https://localhost:8080/"
        },
        "id": "FNOH2gFGQRqh",
        "outputId": "4916a74b-a797-4d3f-c1c7-de7721e69e01"
      },
      "outputs": [
        {
          "output_type": "stream",
          "name": "stderr",
          "text": [
            "WARNING:py.warnings:/usr/local/lib/python3.11/dist-packages/moviepy/video/io/sliders.py:61: SyntaxWarning: \"is\" with a literal. Did you mean \"==\"?\n",
            "  if event.key is 'enter':\n",
            "\n"
          ]
        }
      ],
      "source": [
        "# Импорт модулей\n",
        "import requests\n",
        "import os\n",
        "from moviepy.editor import VideoFileClip, CompositeVideoClip, ImageClip"
      ]
    },
    {
      "cell_type": "code",
      "source": [
        "# Настройки\n",
        "PIXABAY_API_KEY = '48602713-d9c507f237b47a716717da835'  # Замените на ваш API ключ\n",
        "\n",
        "search_query = 'Coca Cola'  # Ваш поисковый запрос\n",
        "per_page = 3  # Количество видео для загрузки"
      ],
      "metadata": {
        "id": "fnzgH-PqXnKx"
      },
      "execution_count": null,
      "outputs": []
    },
    {
      "cell_type": "code",
      "source": [
        "logo_path = '/content/logo.png'  # Путь к вашему логотипу"
      ],
      "metadata": {
        "id": "J23G0a8xXxdr"
      },
      "execution_count": null,
      "outputs": []
    },
    {
      "cell_type": "code",
      "source": [
        "def download_pixabay_videos(query, per_page=3):\n",
        "    url = 'https://pixabay.com/api/videos/'\n",
        "\n",
        "    params = {\n",
        "        'key': PIXABAY_API_KEY,\n",
        "        'q': query,\n",
        "        'per_page': per_page,\n",
        "        'safesearch': 'true'\n",
        "    }\n",
        "\n",
        "    response = requests.get(url, params=params)\n",
        "    if response.status_code == 200:\n",
        "        videos = response.json()['hits']\n",
        "        video_paths = []\n",
        "        for idx, video in enumerate(videos):\n",
        "            # Выбираем видео с наилучшим качеством\n",
        "            video_files = video['videos']\n",
        "            if 'large' in video_files:\n",
        "                video_url = video_files['large']['url']\n",
        "            elif 'medium' in video_files:\n",
        "                video_url = video_files['medium']['url']\n",
        "            else:\n",
        "                video_url = video_files['small']['url']\n",
        "\n",
        "            video_response = requests.get(video_url)\n",
        "            video_filename = f'video_{idx}.mp4'\n",
        "            with open(video_filename, 'wb') as f:\n",
        "                f.write(video_response.content)\n",
        "            video_paths.append(video_filename)\n",
        "        return video_paths\n",
        "    else:\n",
        "        print('Ошибка при запросе к Pixabay API:', response.status_code)\n",
        "        return []"
      ],
      "metadata": {
        "id": "gwTuNXzZZdXn"
      },
      "execution_count": null,
      "outputs": []
    },
    {
      "cell_type": "code",
      "source": [
        "def overlay_logo_on_video(video_path, logo_path, output_path):\n",
        "    # Загрузка видео\n",
        "    video_clip = VideoFileClip(video_path)\n",
        "\n",
        "    # Проверка наличия аудио (для избежания предупреждений)\n",
        "    if video_clip.audio is None:\n",
        "        video_clip = video_clip.set_audio(None)\n",
        "\n",
        "    # Загрузка логотипа\n",
        "    logo = (ImageClip(logo_path)\n",
        "            .set_duration(video_clip.duration)\n",
        "            .resize(height=100)  # Измените размер логотипа при необходимости\n",
        "            .margin(right=8, top=8, opacity=0)  # Отступы\n",
        "            .set_pos((\"right\", \"top\")))  # Позиция логотипа\n",
        "\n",
        "    # Наложение логотипа на видео\n",
        "    final_video = CompositeVideoClip([video_clip, logo])\n",
        "\n",
        "    # Сохранение итогового видео\n",
        "    final_video.write_videofile(output_path, codec='libx264', audio_codec='aac')\n",
        "\n",
        "    # Освобождение ресурсов\n",
        "    video_clip.close()\n",
        "    final_video.close()"
      ],
      "metadata": {
        "id": "SGaCt6YjZqpM"
      },
      "execution_count": null,
      "outputs": []
    },
    {
      "cell_type": "code",
      "source": [
        "# Основной процесс\n",
        "\n",
        "video_paths = download_pixabay_videos(search_query, per_page)\n",
        "\n",
        "if video_paths:\n",
        "    for video_path in video_paths:\n",
        "        output_path = f'logo_{video_path}'\n",
        "        overlay_logo_on_video(video_path, logo_path, output_path)\n",
        "        print(f'Видео с наложенным логотипом сохранено: {output_path}')\n",
        "else:\n",
        "    print('Не удалось скачать видео.')"
      ],
      "metadata": {
        "colab": {
          "base_uri": "https://localhost:8080/"
        },
        "id": "43qDJkuQZ0T-",
        "outputId": "037fed74-b17e-481d-9455-38d55a6280f9"
      },
      "execution_count": null,
      "outputs": [
        {
          "output_type": "stream",
          "name": "stdout",
          "text": [
            "Moviepy - Building video logo_video_0.mp4.\n",
            "MoviePy - Writing audio in logo_video_0TEMP_MPY_wvf_snd.mp4\n"
          ]
        },
        {
          "output_type": "stream",
          "name": "stderr",
          "text": []
        },
        {
          "output_type": "stream",
          "name": "stdout",
          "text": [
            "MoviePy - Done.\n",
            "Moviepy - Writing video logo_video_0.mp4\n",
            "\n"
          ]
        },
        {
          "output_type": "stream",
          "name": "stderr",
          "text": [
            "t: 100%|█████████▉| 662/663 [01:47<00:00,  4.60it/s, now=None]WARNING:py.warnings:/usr/local/lib/python3.11/dist-packages/moviepy/video/io/ffmpeg_reader.py:123: UserWarning: Warning: in file video_0.mp4, 6220800 bytes wanted but 0 bytes read,at frame 661/663, at time 22.06/22.10 sec. Using the last valid frame instead.\n",
            "  warnings.warn(\"Warning: in file %s, \"%(self.filename)+\n",
            "\n",
            "t: 100%|██████████| 663/663 [01:47<00:00,  4.76it/s, now=None]WARNING:py.warnings:/usr/local/lib/python3.11/dist-packages/moviepy/video/io/ffmpeg_reader.py:123: UserWarning: Warning: in file video_0.mp4, 6220800 bytes wanted but 0 bytes read,at frame 662/663, at time 22.09/22.10 sec. Using the last valid frame instead.\n",
            "  warnings.warn(\"Warning: in file %s, \"%(self.filename)+\n",
            "\n"
          ]
        },
        {
          "output_type": "stream",
          "name": "stdout",
          "text": [
            "Moviepy - Done !\n",
            "Moviepy - video ready logo_video_0.mp4\n",
            "Видео с наложенным логотипом сохранено: logo_video_0.mp4\n",
            "Moviepy - Building video logo_video_1.mp4.\n",
            "MoviePy - Writing audio in logo_video_1TEMP_MPY_wvf_snd.mp4\n"
          ]
        },
        {
          "output_type": "stream",
          "name": "stderr",
          "text": []
        },
        {
          "output_type": "stream",
          "name": "stdout",
          "text": [
            "MoviePy - Done.\n",
            "Moviepy - Writing video logo_video_1.mp4\n",
            "\n"
          ]
        },
        {
          "output_type": "stream",
          "name": "stderr",
          "text": []
        },
        {
          "output_type": "stream",
          "name": "stdout",
          "text": [
            "Moviepy - Done !\n",
            "Moviepy - video ready logo_video_1.mp4\n",
            "Видео с наложенным логотипом сохранено: logo_video_1.mp4\n",
            "Moviepy - Building video logo_video_2.mp4.\n",
            "MoviePy - Writing audio in logo_video_2TEMP_MPY_wvf_snd.mp4\n"
          ]
        },
        {
          "output_type": "stream",
          "name": "stderr",
          "text": []
        },
        {
          "output_type": "stream",
          "name": "stdout",
          "text": [
            "MoviePy - Done.\n",
            "Moviepy - Writing video logo_video_2.mp4\n",
            "\n"
          ]
        },
        {
          "output_type": "stream",
          "name": "stderr",
          "text": [
            "t: 100%|██████████| 1090/1090 [09:43<00:00,  2.22it/s, now=None]WARNING:py.warnings:/usr/local/lib/python3.11/dist-packages/moviepy/video/io/ffmpeg_reader.py:123: UserWarning: Warning: in file video_2.mp4, 24883200 bytes wanted but 0 bytes read,at frame 1089/1090, at time 45.38/45.38 sec. Using the last valid frame instead.\n",
            "  warnings.warn(\"Warning: in file %s, \"%(self.filename)+\n",
            "\n"
          ]
        },
        {
          "output_type": "stream",
          "name": "stdout",
          "text": [
            "Moviepy - Done !\n",
            "Moviepy - video ready logo_video_2.mp4\n",
            "Видео с наложенным логотипом сохранено: logo_video_2.mp4\n"
          ]
        }
      ]
    },
    {
      "cell_type": "code",
      "source": [
        "# Импорт модулей\n",
        "from moviepy.editor import VideoFileClip, clips_array\n",
        "\n",
        "# Настройки\n",
        "video_paths = ['/content/logo_video_0.mp4', '/content/logo_video_1.mp4', '/content/logo_video_2.mp4']  # Замените на ваши файлы\n",
        "output_path = 'merged_video.mp4'\n",
        "\n",
        "# Загружаем видеофайлы\n",
        "video_clips = [VideoFileClip(video) for video in video_paths]\n",
        "\n",
        "target_size = (640, 360)  # Задайте нужный размер\n",
        "resized_clips = [clip.resize(target_size) for clip in video_clips]\n",
        "\n",
        "# Объединяем видео в один кадр (в ряд)\n",
        "final_clip = clips_array([resized_clips])\n",
        "\n",
        "# Сохраняем итоговое видео\n",
        "final_clip.write_videofile(output_path, codec='libx264', audio_codec='aac')\n",
        "\n",
        "# Освобождаем ресурсы\n",
        "for clip in resized_clips:\n",
        "    clip.close()\n",
        "final_clip.close()\n",
        "\n",
        "print(f'Итоговое видео сохранено как {output_path}')"
      ],
      "metadata": {
        "colab": {
          "base_uri": "https://localhost:8080/"
        },
        "id": "N0_sg0KTZ51l",
        "outputId": "d631d9ec-c7ba-4ada-e142-93e776705840"
      },
      "execution_count": null,
      "outputs": [
        {
          "output_type": "stream",
          "name": "stdout",
          "text": [
            "Moviepy - Building video merged_video.mp4.\n",
            "MoviePy - Writing audio in merged_videoTEMP_MPY_wvf_snd.mp4\n"
          ]
        },
        {
          "output_type": "stream",
          "name": "stderr",
          "text": []
        },
        {
          "output_type": "stream",
          "name": "stdout",
          "text": [
            "MoviePy - Done.\n",
            "Moviepy - Writing video merged_video.mp4\n",
            "\n"
          ]
        },
        {
          "output_type": "stream",
          "name": "stderr",
          "text": []
        },
        {
          "output_type": "stream",
          "name": "stdout",
          "text": [
            "Moviepy - Done !\n",
            "Moviepy - video ready merged_video.mp4\n",
            "Итоговое видео сохранено как merged_video.mp4\n"
          ]
        }
      ]
    },
    {
      "cell_type": "code",
      "source": [],
      "metadata": {
        "id": "pKkzOgCtZ9dC"
      },
      "execution_count": null,
      "outputs": []
    }
  ]
}